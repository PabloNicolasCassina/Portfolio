{
  "nbformat": 4,
  "nbformat_minor": 0,
  "metadata": {
    "kernelspec": {
      "display_name": "Python 3",
      "language": "python",
      "name": "python3"
    },
    "language_info": {
      "codemirror_mode": {
        "name": "ipython",
        "version": 3
      },
      "file_extension": ".py",
      "mimetype": "text/x-python",
      "name": "python",
      "nbconvert_exporter": "python",
      "pygments_lexer": "ipython3",
      "version": "3.8.3"
    },
    "colab": {
      "name": "Presentación llamados 107.ipynb",
      "provenance": [],
      "collapsed_sections": [],
      "include_colab_link": true
    }
  },
  "cells": [
    {
      "cell_type": "markdown",
      "metadata": {
        "id": "view-in-github",
        "colab_type": "text"
      },
      "source": [
        "<a href=\"https://colab.research.google.com/github/PabloNicolasCassina/Portfolio/blob/main/Presentaci%C3%B3n_llamados_107.ipynb\" target=\"_parent\"><img src=\"https://colab.research.google.com/assets/colab-badge.svg\" alt=\"Open In Colab\"/></a>"
      ]
    },
    {
      "cell_type": "markdown",
      "metadata": {
        "id": "XX2LXxD0eS-9"
      },
      "source": [
        "#                                               Llamados 107 COVID"
      ]
    },
    {
      "cell_type": "markdown",
      "metadata": {
        "id": "3c_0a1nreS_J"
      },
      "source": [
        "![alt text](data:image/jpeg;base64,/9j/4AAQSkZJRgABAQAAAQABAAD/2wCEAAkGBxAQEBAQDxAPDQ8PDw8PDw8NDQ8OEBAQFREWFhcSExUYHiggGBolGxUVITEhJSkrLi4uFx8zODMsNygtLisBCgoKDg0NGBAQFysdHx0rLS0tKystLS4tKystLS0tNS0tLS0tLS0rLSstLS0tLS0tNSsrLSstLSstKy0rLS0tK//AABEIAKMBNgMBIgACEQEDEQH/xAAbAAADAQADAQAAAAAAAAAAAAAAAQIDBAUHBv/EADgQAAIBAgMGBQIDBwUBAAAAAAABAgMRBBIhBTFBUWFxBiKBkfATsRQyoQdDYnKC0fElQlLB4SP/xAAZAQADAQEBAAAAAAAAAAAAAAAAAQIDBAX/xAAjEQEBAAICAgEEAwAAAAAAAAAAAQIRAyExQRIEMlGBEyJh/9oADAMBAAIRAxEAPwDxoAAhYAAAGAAAUikSi0BxSRSJiaIlUNIpCSKSEZoaBIYjA7AirCMhWKQMQTYLFWCwBArFisATYRdhDlCRFWAoJAbQgCWBQmgJLEUSEICYwGEiZQgBADAAAAALTjAAFIAAAAxoQ0AUi0Qi0BxUUWkTE0iSqGikCKQjBSQkikTaoJDQFJCCbDsOwWAJAYpSS3gCYjKWKjuW/roYVa03uVi5hai5yOXJ23g2daqj6W/hb3+4VZSvfVeu/wBCvh0n+R2VhWOuhjZLfr0OfSqqavH23WJuNi5lKbEUKwlJAYNDCWIokCqQKExkTJKEwBMQwAEAAAcYAApmAQAAMaENAFJFomJQHFxNUiImiJVDRaRKKQlQ0ikhIpE0wUJFWEAIoLAaJuybOuc8zTlouHCx2dh0NlTrZ8iclTjnlZXypvS76u/szTCxnnL6cCnBauN31S/70Ile/G381zu3sGtH80Hbm/N6WV2cPE7OqRu1Ff0p/wBjX5Rn8a6+baWi77zFz4NadNBVKrvZpozXcElW6aIVGq4tP3XNF1Jac0YANu7jJNXWqe4DhYCtuj39DnGNmm+N3CEMGCktCGIAlgUSCSYihMYKxJQrACAAAOKAAUzAACAGNCKQBSNEZo0QHFo0RnE0SJq1opIlFoRwxiKRNMyhIpCAsIoVgMj0/wDZ/suH4FyktcTOcpP+GMskV28rf9TPMWe1eGKP08FhY8foU2+8o5n+rY8fJVw8Ts2UXmi4tcVKOvudXjsLF3bik+aVj6TaU7LryPn8fNpWfqOh8DtvZMHOWiir3T+dT5mrSUW096PutotNtPifM7RwV1eL1XPkXjWWePt0EybG04GTNGbTCztK/odqjpE7Hd01ouyM82mAYihMlqloRQgCQGICSwGIIRWEUJjCWgGABwwACmYBACAGUiSkAUjSJnE0gKnFxNUREtCq1opCRSEcNFIQyaaiiShAANIGgMklx3cbb7dD03YHiynVyUmlTaShFJ+WyVoro9x5mkfZeAcJKcarSslOMHJybVrJySjuva2vUrFPbt/EHiKVJ2jBNx1blwtwsfLY7btarvapJ6+ZNac9x3u0Eq2JnKycXLLZrnpdG20vDGeOWOWMG03a8norJK+7oVj/AKeU7fI0adWcvM1LqlwDaWEyRu9L6I+vw2zIUI6rVaau9lyOHtPDLEYfEqLtUpOD0/4tPR9Lp+ot9n8dx5h+HnUqOnTi5y10VlZLe23uXU4rWWTjJaptPuj6bwovLjnL86pRjfja8m/sj5jEJ5nLm3Z8zXfbns1JTdLzqO+7VuzO5SOjVR3utHzNI4iW/M/V3FcdnjlI7diOLh8beylo+a3M5bM7NNZZUCZTEBpBoqwgCRNDYAlIMGAwmwFAAcEAApmAQAgBlIkpAFRNIGcTSAqcaxLiZxNUKrWiiUWhGaKQkNE01IaEikIGAAAB6f4Bo/6ZOWnnr1N296xX2ijy89u8LbOjQwFCinnzU/rTktznU87afJXS9Dfgm8mHPlrHX5cLZeEw8pSjOFprVO9m9e6udpiqUYx8ufdyvY6OrVi5fmyyi/LJpxdzHxH4gjhcM6k5qFVpqjCNpurLpbcub4HXyYyTenNxZ23W3C8R1ZUoSnlq1LJtRhTbkz5rwBjJ16u0JTT82HhuXljacrR+/szu9mbYnjNlzrV0lONWpSi4prMoRjZ9/Nr2Oj8GVvpLHNtWko34a2atf39zjuvw7u9Tt8/RxCpvE2/eXufP4p7vVnYYid3Va3OVl7nXYp6pckERkxQ0JGidjSMzy6HZ4aV4Rb6r2Z1TZz8BWTWR71e3VbyeSbi8L25YmhiZk2IQxNACEMTAqQihMIRAADDggAFswCABAykSUgComsDKBrEVONImiM4GqFVqRaIRaEFIcRIomqUNCKEAAAAF7a8j23Y8HRoYajrL6dClCW965Fc8Seuh7R4Q26sVhacrpVadqVZWjfPFaS7SWvq1wOn6azdc31MuoKuDSbcY8ddN/qeHeKsXVqYqu62bPGcoZXbyRT8sIpaWtqud78T3Tbm340W4U7zqbmkla/LU+Mj4ZeKx+HxNbKlTbqV4Jfmya013zWT6I6OTdxc/FqZLxeG/CbNw2HeklRWdW/ezvKXreT9j43F13TTpQVvqqEpc7uKufbeKsQpOcXw1PPcZWvUlJ62jp6Kxx3y7t6jra2jy8m2+5w5tXbORJ6Zm99zhSZcjPKmtBDihlpLKb7Pgs66JtdflzEunNxkpct/biGU6EvbtmAXvr6gc7pSBRIAhMbEBEJjYmEIgABhwQACmYAAGDKRJSEFwNImUDaIqcaQNEZwLQqtaLRCLiIKKJLRNUaRQkMQADQgAsc/Yu2amDqfVhdxatUpp2VSPLXS/J8+7OtqTUVd/+nEqV3LouRvw8dt2y5M5JqvSobSjVf1qVp/U/wB8rtx5xy8GfQeH6sXSrSV21P6bk2rtqKk9Fovzc33PC6kmtU2udm19j2D9maT2VF3zSdavmu7u+e32SOnlz605uLj1dul8Q75t8VxPg8ZP83V2PvPE0G5O2lv1R57tGpeTtw4cjldV8OHXnp6mKHUncUTSM6aKSEUld9OLKScFfdwNFS56h+iDMVNE1p1nFJK1lwZvRrqWm5nFlp3+bzKTZOeEVjlY7UkywlXMtd60ZszmdEuyZLKYgCRMbExkQAABwQACozAAAwaGiUUhBpFmkSIlxFTjWBZCLTFVrRcSEXEQUWiUUiapSGhIaEAgTGY4upaOm96IrHH5XRZXU24uJnmfTgZTVvb586lcbdkS9b9GenJqajivd3WNXjyeqPQf2O7UefEYOX5ZR/EU/wCZZYTXtk9meez+d+Zz9i46pg6ir0nkqxjOK0ulmVndcd912RjcbkuXT03xzjMNh4rPadaSvGld5nFuzk2lou++x5Riqyk28q14F4itUrTdSrOVSc9ZSnJuT7tnFrVFwD4zGDdrjzj8Yrmyi3vMXHUiw1QXsbL4iIf4L76scIJX13fNLDvy9Sb/ANxJN7krcxgSYkimkurIlL50FTa4OpaduenrwOxOljKzv2f6ndXMM2uFJklMRC0sTGyWMABXAA4QABbMAABAEUSigoaxLiREuBNONUaERKQlrRcSEWhBRaIRSZNUtDJTHcQVc4GOneSXLT1bObJ2V+R1dR3ku6Or6fHvbHmvWlcX6mdHiapb7cUQnk0WretzsvlzG1lvxfbcLk3q7icn68SajstSbTkRXqGdOF/T9ES9WclR8rfMzn9rtXhjVnbRHHszSs+280hT8upFm6pnTb/wWvb7mdOVro2TCELL/I7jSv0ITV+xYZVZcjM0rIzMsvJwHb4d3hF9EdQztME//mvVfqZ5+GmHlsyWUyWZxoQmMljBMAYAHBuFwAtmLiTAAB3GmMAC4srO/iQATTi41H8SLU38SABLWpv4kWqj+JCAQX9R/EivqP4kACpqU2UpCAUMsRLy+q+519/MvnBjA7uD7P25uX7jzOz7oxhJgBrmyxDkx1pO/YAJ9H7Yw3o5LfkGBPH7GTiT/uaKTshALHzVemaKvb51ACYGkXoYveADvoQ2QkICMvJxVjm4STUF3YAZ5+F4eWjqP4kS6j+JABDUnUfxIlzfxIYAE538SAAAP//Z)"
      ]
    },
    {
      "cell_type": "markdown",
      "metadata": {
        "id": "ypPkR6BneS_K"
      },
      "source": [
        "## Índice"
      ]
    },
    {
      "cell_type": "markdown",
      "metadata": {
        "id": "MEOVPqLseS_M"
      },
      "source": [
        "1. **Presentación**\n",
        "2. **Muestra**\n",
        "3. **Conclusión**"
      ]
    },
    {
      "cell_type": "markdown",
      "metadata": {
        "id": "LOfd8VGWeS_N"
      },
      "source": [
        "## Presentación"
      ]
    },
    {
      "cell_type": "markdown",
      "metadata": {
        "id": "gIAU3LWQeS_O"
      },
      "source": [
        "Esta presentación está hecha con el fin de responder tres preguntas en base a los datos proporcionados por la Ciudad de Buenos Aires sobre los llamados al 107 referidos al COVID durante la pandemia.\n",
        "\n",
        "\n",
        "Éstas son:\n",
        "- ¿Cuál fue el porcentaje de casos sospechosos?\n",
        "- ¿Cuál fue el porcentaje de casos trasladados?\n",
        "- ¿Cuál fue el porcentaje de casos descartados?\n",
        "\n",
        "\n",
        "Quisiera recalcar que mi análisis tiene un enfoque en como la sobreexposición de datos e información, en el común de la gente, puede tener mayores complicaciones que efectos positivos."
      ]
    },
    {
      "cell_type": "markdown",
      "metadata": {
        "id": "HDZFB3qieS_P"
      },
      "source": [
        "## Muestra"
      ]
    },
    {
      "cell_type": "code",
      "metadata": {
        "id": "oMvmLrfMeS_Q"
      },
      "source": [
        "import numpy as np\n",
        "import pandas as pd"
      ],
      "execution_count": null,
      "outputs": []
    },
    {
      "cell_type": "code",
      "metadata": {
        "id": "PhtmgJpzeS_R",
        "outputId": "7ce0259b-1e3f-48b7-bbff-2f47315b654d"
      },
      "source": [
        "df = pd.read_csv(\"C:\\\\Users\\\\herma\\\\Desktop\\\\llamados_107_covid.csv\")\n",
        "df"
      ],
      "execution_count": null,
      "outputs": [
        {
          "output_type": "execute_result",
          "data": {
            "text/html": [
              "<div>\n",
              "<style scoped>\n",
              "    .dataframe tbody tr th:only-of-type {\n",
              "        vertical-align: middle;\n",
              "    }\n",
              "\n",
              "    .dataframe tbody tr th {\n",
              "        vertical-align: top;\n",
              "    }\n",
              "\n",
              "    .dataframe thead th {\n",
              "        text-align: right;\n",
              "    }\n",
              "</style>\n",
              "<table border=\"1\" class=\"dataframe\">\n",
              "  <thead>\n",
              "    <tr style=\"text-align: right;\">\n",
              "      <th></th>\n",
              "      <th>FECHA</th>\n",
              "      <th>COVID_LLAMADOS</th>\n",
              "      <th>CASOS_SOSPECHOSOS</th>\n",
              "      <th>CASOS_DESCARTADOS_COVID</th>\n",
              "      <th>CASOS_TRASLADADOS</th>\n",
              "      <th>CASOS_DERIVADOS</th>\n",
              "    </tr>\n",
              "  </thead>\n",
              "  <tbody>\n",
              "    <tr>\n",
              "      <th>0</th>\n",
              "      <td>07SEP2020:00:00:00</td>\n",
              "      <td>781</td>\n",
              "      <td>37</td>\n",
              "      <td>744</td>\n",
              "      <td>3</td>\n",
              "      <td>11</td>\n",
              "    </tr>\n",
              "    <tr>\n",
              "      <th>1</th>\n",
              "      <td>08SEP2020:00:00:00</td>\n",
              "      <td>711</td>\n",
              "      <td>37</td>\n",
              "      <td>674</td>\n",
              "      <td>2</td>\n",
              "      <td>12</td>\n",
              "    </tr>\n",
              "    <tr>\n",
              "      <th>2</th>\n",
              "      <td>09SEP2020:00:00:00</td>\n",
              "      <td>623</td>\n",
              "      <td>27</td>\n",
              "      <td>596</td>\n",
              "      <td>1</td>\n",
              "      <td>13</td>\n",
              "    </tr>\n",
              "    <tr>\n",
              "      <th>3</th>\n",
              "      <td>10SEP2020:00:00:00</td>\n",
              "      <td>520</td>\n",
              "      <td>19</td>\n",
              "      <td>501</td>\n",
              "      <td>1</td>\n",
              "      <td>6</td>\n",
              "    </tr>\n",
              "    <tr>\n",
              "      <th>4</th>\n",
              "      <td>11SEP2020:00:00:00</td>\n",
              "      <td>502</td>\n",
              "      <td>23</td>\n",
              "      <td>479</td>\n",
              "      <td>1</td>\n",
              "      <td>2</td>\n",
              "    </tr>\n",
              "    <tr>\n",
              "      <th>...</th>\n",
              "      <td>...</td>\n",
              "      <td>...</td>\n",
              "      <td>...</td>\n",
              "      <td>...</td>\n",
              "      <td>...</td>\n",
              "      <td>...</td>\n",
              "    </tr>\n",
              "    <tr>\n",
              "      <th>250</th>\n",
              "      <td>02SEP2020:00:00:00</td>\n",
              "      <td>627</td>\n",
              "      <td>36</td>\n",
              "      <td>591</td>\n",
              "      <td>1</td>\n",
              "      <td>9</td>\n",
              "    </tr>\n",
              "    <tr>\n",
              "      <th>251</th>\n",
              "      <td>03SEP2020:00:00:00</td>\n",
              "      <td>642</td>\n",
              "      <td>31</td>\n",
              "      <td>611</td>\n",
              "      <td>2</td>\n",
              "      <td>8</td>\n",
              "    </tr>\n",
              "    <tr>\n",
              "      <th>252</th>\n",
              "      <td>04SEP2020:00:00:00</td>\n",
              "      <td>613</td>\n",
              "      <td>40</td>\n",
              "      <td>573</td>\n",
              "      <td>3</td>\n",
              "      <td>16</td>\n",
              "    </tr>\n",
              "    <tr>\n",
              "      <th>253</th>\n",
              "      <td>05SEP2020:00:00:00</td>\n",
              "      <td>270</td>\n",
              "      <td>23</td>\n",
              "      <td>247</td>\n",
              "      <td>0</td>\n",
              "      <td>6</td>\n",
              "    </tr>\n",
              "    <tr>\n",
              "      <th>254</th>\n",
              "      <td>06SEP2020:00:00:00</td>\n",
              "      <td>213</td>\n",
              "      <td>13</td>\n",
              "      <td>200</td>\n",
              "      <td>0</td>\n",
              "      <td>2</td>\n",
              "    </tr>\n",
              "  </tbody>\n",
              "</table>\n",
              "<p>255 rows × 6 columns</p>\n",
              "</div>"
            ],
            "text/plain": [
              "                  FECHA  COVID_LLAMADOS  CASOS_SOSPECHOSOS  \\\n",
              "0    07SEP2020:00:00:00             781                 37   \n",
              "1    08SEP2020:00:00:00             711                 37   \n",
              "2    09SEP2020:00:00:00             623                 27   \n",
              "3    10SEP2020:00:00:00             520                 19   \n",
              "4    11SEP2020:00:00:00             502                 23   \n",
              "..                  ...             ...                ...   \n",
              "250  02SEP2020:00:00:00             627                 36   \n",
              "251  03SEP2020:00:00:00             642                 31   \n",
              "252  04SEP2020:00:00:00             613                 40   \n",
              "253  05SEP2020:00:00:00             270                 23   \n",
              "254  06SEP2020:00:00:00             213                 13   \n",
              "\n",
              "     CASOS_DESCARTADOS_COVID  CASOS_TRASLADADOS  CASOS_DERIVADOS  \n",
              "0                        744                  3               11  \n",
              "1                        674                  2               12  \n",
              "2                        596                  1               13  \n",
              "3                        501                  1                6  \n",
              "4                        479                  1                2  \n",
              "..                       ...                ...              ...  \n",
              "250                      591                  1                9  \n",
              "251                      611                  2                8  \n",
              "252                      573                  3               16  \n",
              "253                      247                  0                6  \n",
              "254                      200                  0                2  \n",
              "\n",
              "[255 rows x 6 columns]"
            ]
          },
          "metadata": {
            "tags": []
          },
          "execution_count": 3
        }
      ]
    },
    {
      "cell_type": "markdown",
      "metadata": {
        "id": "aUJBu14ReS_U"
      },
      "source": [
        "### Del total de casos llamados ¿Cuántos fueron sospechosos?"
      ]
    },
    {
      "cell_type": "code",
      "metadata": {
        "id": "88616oQmeS_V",
        "outputId": "d5add19e-f968-4012-c2f9-29c064956328"
      },
      "source": [
        "CAS_LLAM = df[\"COVID_LLAMADOS\"].sum()\n",
        "CAS_SOSP = df[\"CASOS_SOSPECHOSOS\"].sum()\n",
        "print(\"El total de casos sospechosos es de:\",round((CAS_SOSP * 100)/CAS_LLAM,2),\"%\")"
      ],
      "execution_count": null,
      "outputs": [
        {
          "output_type": "stream",
          "text": [
            "El total de casos sospechosos es de: 14.89 %\n"
          ],
          "name": "stdout"
        }
      ]
    },
    {
      "cell_type": "markdown",
      "metadata": {
        "id": "l3rutPKfeS_V"
      },
      "source": [
        "### Del total de casos casos sospechosos ¿Cuántos fueron trasladados?"
      ]
    },
    {
      "cell_type": "code",
      "metadata": {
        "id": "_uBv7BeQeS_W",
        "outputId": "77b01830-e704-42bd-f44e-fbf7e5fa6159"
      },
      "source": [
        "CAS_SOSP = df[\"CASOS_SOSPECHOSOS\"].sum()\n",
        "CAS_TRAS = df[\"CASOS_TRASLADADOS\"].sum()\n",
        "print(\"Fueron trasladados un\", round((CAS_TRAS * 100)/CAS_SOSP,2),\"% de los pacientes declarados como 'sospechosos'\")"
      ],
      "execution_count": null,
      "outputs": [
        {
          "output_type": "stream",
          "text": [
            "Fueron trasladados un 12.97 % de los pacientes declarados como 'sospechosos'\n"
          ],
          "name": "stdout"
        }
      ]
    },
    {
      "cell_type": "markdown",
      "metadata": {
        "id": "F7FcSa8KeS_W"
      },
      "source": [
        "### Finalmente, ¿Cuántos de los casos fueron descartados?"
      ]
    },
    {
      "cell_type": "code",
      "metadata": {
        "id": "cnuqvjo8eS_X",
        "outputId": "7a291286-1404-4e14-d36c-6cb7a73aa81e"
      },
      "source": [
        "CAS_LLAM = df[\"COVID_LLAMADOS\"].sum()\n",
        "CAS_DESC = df[\"CASOS_DESCARTADOS_COVID\"].sum()\n",
        "print(\"El porcentaje de casos descartados es del:\",round((CAS_DESC * 100)/CAS_LLAM,2),\"%\")"
      ],
      "execution_count": null,
      "outputs": [
        {
          "output_type": "stream",
          "text": [
            "El porcentaje de casos descartados es del: 85.11 %\n"
          ],
          "name": "stdout"
        }
      ]
    },
    {
      "cell_type": "markdown",
      "metadata": {
        "id": "qIpXPFT5eS_X"
      },
      "source": [
        "## Conclusión"
      ]
    },
    {
      "cell_type": "markdown",
      "metadata": {
        "id": "JI0t8cdVeS_Y"
      },
      "source": [
        "¿Qué nos quieren decir estos datos? ¿Acaso nos está diciendo que la población de Buenos Aires es hipocondríaca por ejemplo?\n",
        "\n",
        "**Nada más lejos de la realidad**"
      ]
    },
    {
      "cell_type": "markdown",
      "metadata": {
        "id": "0ug8m6sieS_Y"
      },
      "source": [
        "![alt text](data:image/jpeg;base64,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)"
      ]
    },
    {
      "cell_type": "markdown",
      "metadata": {
        "id": "E4UGmU10eS_Y"
      },
      "source": [
        "Analizando estos datos, uno a priori podría pensar esto mismo y no lo culpo, pues este informe no es más que un conjunto de **datos**. Quien lee es quien los interpreta y luego los procesa como información."
      ]
    },
    {
      "cell_type": "markdown",
      "metadata": {
        "id": "_hKcmCl3eS_Y"
      },
      "source": [
        "Habiendo aclarado, me encantaría poder dar mi visión de todo esto. Y es que en mi opinión esta pandemia mostró un lado\n",
        "que quizás no es el mejor de la era de la información y la globalización. Ya que no solo nos preocupa la situación de nuestra ciudad / provincia / país sino que, además, nos bombardean con lo que pasa en la otra punta del mundo.\n",
        "\n",
        "Estadísticas y datos por todos lados. Prender la tele y escuchar solo noticias referidas al COVID. \"El barbijo no sirve\" \"Bueno... Si servía\". \"Que no se dispersa por el aire\" \"Bueno... En realidad si se dispersa\". Todo el tiempo información cruzada, aumentando la incertidumbre y ese temor en la población.\n",
        "\n",
        "Al terminar eso, mirás para abajo para encontrarte el número de muertos y contagiados. Como si de una pelea se tratase para ver quien tiene el número más actualizado.\n",
        "\n",
        "Y antes de cerrar el noticiero, te leen los numeros diarios de contagiados. Un día hay 5 y al otro 5000.\n",
        "\n",
        "No me malinterpreten, no digo que brindar información esté mal. Todo lo contrario, la información es poder.\n",
        "\n",
        "Ahora... ¿Qué pasa cuando la información cae en manos que no estan preparadas para recibirla? ¿Qué pasa cuando la información te asfixia? ¿Qué pasa cuando, en medio de toda esta exposición, además la información se desmiente y/o contradice al poco tiempo?\n",
        "\n",
        "Bueno, **los números de CABA contestan esa pregunta**"
      ]
    },
    {
      "cell_type": "markdown",
      "metadata": {
        "id": "WxbnAfareS_Y"
      },
      "source": [
        "Miremos el porcentaje de casos descartados. **El 85% de llamados eran un descarte directo**. No está mal que la gente llame, pero cuando el porcentaje es así de alto no es una señal sana. Y mucho menos cuando solo el **15% era sospechoso y de esos, solo el 13% eran trasladados**.\n",
        "\n",
        "La mayoría llamaba más con miedos que certezas. Provocando que, seguramente, la eficiencia del 107 bajara. Ya que si alguien necesitaba con urgencia al 107 pero en ese momento muchos operadores estaban ocupados descartando casos, se pierden minutos valiosos. Minutos que pueden salvar una vida.\n",
        "\n",
        "Y todo esto gracias al bombardeo constante de datos e información que, como todo, en exceso es malo. Se ha causado una especie de histeria y paranoia *light* que ante el mínimo estornudo ya estábamos sospechando de que podíamos tener COVID y no una simple alergia estacional."
      ]
    },
    {
      "cell_type": "markdown",
      "metadata": {
        "id": "vez0GWcBeS_Z"
      },
      "source": [
        "Lamentablemente **las pandemias van a seguir apareciendo** y no podemos volver a tropezar con la misma piedra.\n",
        "\n",
        "Creo yo que se deben elaborar estrategias para que **todo el mundo pueda informarse, concientizarse y a su vez no genere terror o incertidumbre en la gente**.\n",
        "\n",
        "Para finalizar esta presentación propongo como una solución el empezar a tomarse la salud mental de la gente en serio. Hay que dejar de hablar e informar sin un fin en concreto, hay que elaborar nuevas estrategias de comunicación en este tipo de situaciones. Hay que transmitir información pero a su vez generar **paz y tranquilidad** en este tipo de temas. Y entiendo que a veces, esto puede hacer que se lo tome a la ligera sin embargo, pienso yo, la idea tampoco es crear ese clima de incertidumbre y miedo con tal de lograr el máximo cuidado. En cuanto el miedo cesa, el descontrol viene por atrás y es imposible de contener. Y esa situación **puede ser peor que el virus per se**.\n",
        "\n",
        "La clave está en **informarse** y no *ahogarse* en el intento."
      ]
    }
  ]
}